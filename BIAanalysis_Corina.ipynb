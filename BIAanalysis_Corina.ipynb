{
  "nbformat": 4,
  "nbformat_minor": 0,
  "metadata": {
    "colab": {
      "name": "BIAanalysis_Corina",
      "provenance": [],
      "collapsed_sections": [],
      "include_colab_link": true
    },
    "kernelspec": {
      "name": "python3",
      "display_name": "Python 3"
    },
    "language_info": {
      "name": "python"
    }
  },
  "cells": [
    {
      "cell_type": "markdown",
      "metadata": {
        "id": "view-in-github",
        "colab_type": "text"
      },
      "source": [
        "<a href=\"https://colab.research.google.com/github/ckotidis/BIAFinal-AnalysisOfPoseEstimation/blob/main/BIAanalysis_Corina.ipynb\" target=\"_parent\"><img src=\"https://colab.research.google.com/assets/colab-badge.svg\" alt=\"Open In Colab\"/></a>"
      ]
    },
    {
      "cell_type": "markdown",
      "source": [
        "Author: Corina Kotidis\n",
        "\n",
        "Date: 5/16/2022\n",
        "\n",
        "Project: Biomedical Image Analysis- Boston College"
      ],
      "metadata": {
        "id": "Zave4v4-C9wU"
      }
    },
    {
      "cell_type": "markdown",
      "source": [
        "#DeepLabCut Model"
      ],
      "metadata": {
        "id": "-hRlES9k386k"
      }
    },
    {
      "cell_type": "markdown",
      "source": [
        "Setting up DeepLabCut"
      ],
      "metadata": {
        "id": "4GkqESzS4BDF"
      }
    },
    {
      "cell_type": "code",
      "source": [
        "from google.colab import drive\n",
        "drive.mount('drive')"
      ],
      "metadata": {
        "colab": {
          "base_uri": "https://localhost:8080/"
        },
        "id": "2CIkFdpzeCSx",
        "outputId": "89c5f565-5702-418e-a4bf-9a04313314f2"
      },
      "execution_count": 1,
      "outputs": [
        {
          "output_type": "stream",
          "name": "stdout",
          "text": [
            "Mounted at drive\n"
          ]
        }
      ]
    },
    {
      "cell_type": "code",
      "source": [
        "import os\n",
        "import pandas as pd\n",
        "from tqdm import tqdm\n",
        "import numpy as np\n",
        "import re\n",
        "import matplotlib.pyplot as plt"
      ],
      "metadata": {
        "id": "EZ00MnxJDric"
      },
      "execution_count": 3,
      "outputs": []
    },
    {
      "cell_type": "code",
      "source": [
        ""
      ],
      "metadata": {
        "colab": {
          "base_uri": "https://localhost:8080/"
        },
        "id": "d7YazWhg4vCc",
        "outputId": "3d94d9a6-7dab-4c56-88a6-c809d11e9abc"
      },
      "execution_count": 5,
      "outputs": [
        {
          "output_type": "execute_result",
          "data": {
            "text/plain": [
              "['/content/drive/MyDrive/BIA_folder/videos/AD2205_Day2_Rat_1.MP4']"
            ]
          },
          "metadata": {},
          "execution_count": 5
        }
      ]
    },
    {
      "cell_type": "code",
      "source": [
        "#These are the terminal commands to run DeepLabCut\n",
        "#Please refer to this paper for more details about each command\n",
        "#https://www.nature.com/articles/s41596-019-0176-0\n",
        "\n",
        "projectName = 'BIAFinal2022'\n",
        "experimenters = 'Corina Kotidis and Jennifer Joseph'\n",
        "\n",
        "path = '/content/drive/MyDrive/BIA_folder/videos/'\n",
        "videoPath_list = []\n",
        "for filename in os.listdir(path):\n",
        "  videoPath_list.append(path+filename)\n",
        "\n",
        "! import deeplabcut as dlc\n",
        "\n",
        "! cp = dlc.create_new_project(projectName,experimenters,videoPath_list, copy_videos=False,videotype='mp4')\n",
        "\n",
        "! dlc.extract_frames(cp, 'automatic', 'uniform',crop=True, userfeedback=False)\n",
        "\n",
        "! dlc.label_frames(cp)\n",
        "\n",
        "! dlc.check_labels(cp)\n",
        "\n",
        "! dlc.create_training_data(cp)\n",
        "\n",
        "! dlc.train_network(cp, gputouse=1, max_snapshots_to_keep=0, autotune=False, displayiters=0, maxiters=50000)\n",
        "\n",
        "! dlc.evaluate_newtwork(cp, plotting=True)\n",
        "\n",
        "! dlc.analyze_videos(cp, videoPath_list, save_as_csv=True, videotype = '.avi')\n",
        "\n",
        "! dlc.plot_trajectories(cp,videoPath_list)\n",
        "\n",
        "! dlc. create_labeled_video(cp, videoPath_list)\n",
        "\n",
        "! dlc.refine_labels(cp)"
      ],
      "metadata": {
        "id": "nPM5A3ab38pK"
      },
      "execution_count": null,
      "outputs": []
    },
    {
      "cell_type": "markdown",
      "source": [
        "#Pre-processing"
      ],
      "metadata": {
        "id": "DUMi1csgF8rj"
      }
    },
    {
      "cell_type": "code",
      "source": [
        "############################################################################################################\n",
        "#BEFORE RUNNING: Must compile a text file with all the delays (in the format \"(day)rat (ratnumber):(delay)\") \n",
        "############################################################################################################\n",
        "#Converts text file into an array where the days are the rows and the columns are the rats \n",
        "#The value at each position is the delay for that day (row) and rat (col)\n",
        "\n",
        "#Creates array\n",
        "reference = np.zeros((6,17))\n",
        "#Accesses the text file\n",
        "with open('/content/drive/MyDrive/BIA_folder/preproctimes.txt') as time_file:\n",
        "    for line in time_file:\n",
        "      #Finds all the numbers in the string\n",
        "      nums = re.findall(r'\\d+', line)\n",
        "\n",
        "      #Obtains the dealy\n",
        "      time = re.findall(r'\\d+',re.findall(r'\\d+-',line)[0])[0] \n",
        "\n",
        "      #Upates the delay in the numpy array\n",
        "      reference[int(nums[0]), int(nums[1])]=int(time)\n",
        "\n",
        "#Day 4, Rat 16 was not in the textfile so I just augmented it here\n",
        "reference[4,16]='08'"
      ],
      "metadata": {
        "id": "lJHNjpSTi8zk"
      },
      "execution_count": null,
      "outputs": []
    },
    {
      "cell_type": "code",
      "source": [
        "#Processes and converts the CSV files into a list\n",
        "\n",
        "#Get video CSVs into list\n",
        "framespersecond=30\n",
        "csv_list = []\n",
        "right_left = []\n",
        "\n",
        "#Iterating through the list of CSVs\n",
        "for file_name in tqdm(os.listdir('/content/drive/MyDrive/BIA_folder/csvs/')):\n",
        "  #Ensuring that we are only using CSV files\n",
        "  if file_name.endswith('.csv'): \n",
        "    #Convert CSV file to DataFrame\n",
        "    csv = pd.read_csv('/content/drive/MyDrive/BIA_folder/csvs/'+file_name, dtype='a')\n",
        "    \n",
        "    #Determine delay from reference array with delays\n",
        "    numbers = re.findall(r'\\d+', file_name) #Finds all the numbers in the file name\n",
        "    start_time = int(reference[int(numbers[1]),int(numbers[2])]) #Gets delay from reference array\n",
        "    \n",
        "    #Remove rows in CSV file that are not necessary\n",
        "    csv.drop(csv.index[2:start_time*framespersecond],axis=0, inplace=True) \n",
        "    csv.drop(csv.index[start_time*framespersecond+1:start_time*framespersecond+9001],axis=0, inplace=True)\n",
        "    \n",
        "    #Converts csv to numpy \n",
        "    numpy_csv = csv.to_numpy()\n",
        "    for row in range(2,numpy_csv.shape[0]):\n",
        "      for col in range(1,numpy_csv.shape[1]):\n",
        "        #Converts each value to a float\n",
        "        numpy_csv[row,col] = float(numpy_csv[row,col])\n",
        "\n",
        "    #Collects processed CSV files into list\n",
        "    csv_list.append(numpy_csv)\n",
        "    \n",
        "    #Keeps track of left and right sided videos\n",
        "    if '(1)' in file_name:\n",
        "      right_left.append('R')\n",
        "    else: \n",
        "      right_left.append('L')"
      ],
      "metadata": {
        "id": "0Tluv7BmwhY2",
        "colab": {
          "base_uri": "https://localhost:8080/"
        },
        "outputId": "2a887f69-e209-461f-f8b3-11dcb53bfae5"
      },
      "execution_count": null,
      "outputs": [
        {
          "output_type": "stream",
          "name": "stderr",
          "text": [
            "100%|██████████| 129/129 [00:15<00:00,  8.26it/s]\n"
          ]
        }
      ]
    },
    {
      "cell_type": "markdown",
      "source": [
        "#Error Rate"
      ],
      "metadata": {
        "id": "RZmfveCBLykt"
      }
    },
    {
      "cell_type": "code",
      "source": [
        "def error_rate(csv_List):\n",
        "#Calculates the sum of the liklihoods per bodypart\n",
        "#Returns dataframe of the error rate at each body part\n",
        "\n",
        "  #Creates dataframe to keep track of running sum\n",
        "  errordf = pd.DataFrame({'nose':[0],'L eye':[0],'R eye':[0], 'L ear':[0],'R ear':[0],'tail base':[0]})\n",
        "\n",
        "  #Iterates through the list of CSV files\n",
        "  for index, csv in enumerate(csv_List):\n",
        "\n",
        "    #Collects the liklihoods for each bodypart\n",
        "    #Order: nose, L eye, R eye, L ear, R ear, tail base\n",
        "    likelihoods = csv[:, [3,6,9,12,15,18]]\n",
        "\n",
        "    #Iterates through the liklihoods for the bodyparts at each frame\n",
        "    for ind, bodypart in enumerate(likelihoods[0]):\n",
        "      #Calculates the sum\n",
        "      sum = np.sum(likelihoods[2:,ind])\n",
        "      #Adds it the sum to the running sum in the dataframe\n",
        "      errordf.loc[0,bodypart]+= sum\n",
        "\n",
        "  #Calculates total number of instances\n",
        "  total = likelihoods.shape[0]*len(csv_list)\n",
        "  #Divide running sum by total\n",
        "  return errordf/total\n",
        "\n",
        "display(error_rate(csv_list))"
      ],
      "metadata": {
        "id": "wmiZHvuhJpgr",
        "colab": {
          "base_uri": "https://localhost:8080/",
          "height": 81
        },
        "outputId": "51b35793-b184-4be2-a52f-3bb9e410c184"
      },
      "execution_count": null,
      "outputs": [
        {
          "output_type": "display_data",
          "data": {
            "text/plain": [
              "       nose     L eye     R eye    L ear     R ear  tail base\n",
              "0  0.808774  0.762725  0.786765  0.95734  0.951195    0.71183"
            ],
            "text/html": [
              "\n",
              "  <div id=\"df-7fe1c56c-197b-433f-b08f-9447c11966b0\">\n",
              "    <div class=\"colab-df-container\">\n",
              "      <div>\n",
              "<style scoped>\n",
              "    .dataframe tbody tr th:only-of-type {\n",
              "        vertical-align: middle;\n",
              "    }\n",
              "\n",
              "    .dataframe tbody tr th {\n",
              "        vertical-align: top;\n",
              "    }\n",
              "\n",
              "    .dataframe thead th {\n",
              "        text-align: right;\n",
              "    }\n",
              "</style>\n",
              "<table border=\"1\" class=\"dataframe\">\n",
              "  <thead>\n",
              "    <tr style=\"text-align: right;\">\n",
              "      <th></th>\n",
              "      <th>nose</th>\n",
              "      <th>L eye</th>\n",
              "      <th>R eye</th>\n",
              "      <th>L ear</th>\n",
              "      <th>R ear</th>\n",
              "      <th>tail base</th>\n",
              "    </tr>\n",
              "  </thead>\n",
              "  <tbody>\n",
              "    <tr>\n",
              "      <th>0</th>\n",
              "      <td>0.808774</td>\n",
              "      <td>0.762725</td>\n",
              "      <td>0.786765</td>\n",
              "      <td>0.95734</td>\n",
              "      <td>0.951195</td>\n",
              "      <td>0.71183</td>\n",
              "    </tr>\n",
              "  </tbody>\n",
              "</table>\n",
              "</div>\n",
              "      <button class=\"colab-df-convert\" onclick=\"convertToInteractive('df-7fe1c56c-197b-433f-b08f-9447c11966b0')\"\n",
              "              title=\"Convert this dataframe to an interactive table.\"\n",
              "              style=\"display:none;\">\n",
              "        \n",
              "  <svg xmlns=\"http://www.w3.org/2000/svg\" height=\"24px\"viewBox=\"0 0 24 24\"\n",
              "       width=\"24px\">\n",
              "    <path d=\"M0 0h24v24H0V0z\" fill=\"none\"/>\n",
              "    <path d=\"M18.56 5.44l.94 2.06.94-2.06 2.06-.94-2.06-.94-.94-2.06-.94 2.06-2.06.94zm-11 1L8.5 8.5l.94-2.06 2.06-.94-2.06-.94L8.5 2.5l-.94 2.06-2.06.94zm10 10l.94 2.06.94-2.06 2.06-.94-2.06-.94-.94-2.06-.94 2.06-2.06.94z\"/><path d=\"M17.41 7.96l-1.37-1.37c-.4-.4-.92-.59-1.43-.59-.52 0-1.04.2-1.43.59L10.3 9.45l-7.72 7.72c-.78.78-.78 2.05 0 2.83L4 21.41c.39.39.9.59 1.41.59.51 0 1.02-.2 1.41-.59l7.78-7.78 2.81-2.81c.8-.78.8-2.07 0-2.86zM5.41 20L4 18.59l7.72-7.72 1.47 1.35L5.41 20z\"/>\n",
              "  </svg>\n",
              "      </button>\n",
              "      \n",
              "  <style>\n",
              "    .colab-df-container {\n",
              "      display:flex;\n",
              "      flex-wrap:wrap;\n",
              "      gap: 12px;\n",
              "    }\n",
              "\n",
              "    .colab-df-convert {\n",
              "      background-color: #E8F0FE;\n",
              "      border: none;\n",
              "      border-radius: 50%;\n",
              "      cursor: pointer;\n",
              "      display: none;\n",
              "      fill: #1967D2;\n",
              "      height: 32px;\n",
              "      padding: 0 0 0 0;\n",
              "      width: 32px;\n",
              "    }\n",
              "\n",
              "    .colab-df-convert:hover {\n",
              "      background-color: #E2EBFA;\n",
              "      box-shadow: 0px 1px 2px rgba(60, 64, 67, 0.3), 0px 1px 3px 1px rgba(60, 64, 67, 0.15);\n",
              "      fill: #174EA6;\n",
              "    }\n",
              "\n",
              "    [theme=dark] .colab-df-convert {\n",
              "      background-color: #3B4455;\n",
              "      fill: #D2E3FC;\n",
              "    }\n",
              "\n",
              "    [theme=dark] .colab-df-convert:hover {\n",
              "      background-color: #434B5C;\n",
              "      box-shadow: 0px 1px 3px 1px rgba(0, 0, 0, 0.15);\n",
              "      filter: drop-shadow(0px 1px 2px rgba(0, 0, 0, 0.3));\n",
              "      fill: #FFFFFF;\n",
              "    }\n",
              "  </style>\n",
              "\n",
              "      <script>\n",
              "        const buttonEl =\n",
              "          document.querySelector('#df-7fe1c56c-197b-433f-b08f-9447c11966b0 button.colab-df-convert');\n",
              "        buttonEl.style.display =\n",
              "          google.colab.kernel.accessAllowed ? 'block' : 'none';\n",
              "\n",
              "        async function convertToInteractive(key) {\n",
              "          const element = document.querySelector('#df-7fe1c56c-197b-433f-b08f-9447c11966b0');\n",
              "          const dataTable =\n",
              "            await google.colab.kernel.invokeFunction('convertToInteractive',\n",
              "                                                     [key], {});\n",
              "          if (!dataTable) return;\n",
              "\n",
              "          const docLinkHtml = 'Like what you see? Visit the ' +\n",
              "            '<a target=\"_blank\" href=https://colab.research.google.com/notebooks/data_table.ipynb>data table notebook</a>'\n",
              "            + ' to learn more about interactive tables.';\n",
              "          element.innerHTML = '';\n",
              "          dataTable['output_type'] = 'display_data';\n",
              "          await google.colab.output.renderOutput(dataTable, element);\n",
              "          const docLink = document.createElement('div');\n",
              "          docLink.innerHTML = docLinkHtml;\n",
              "          element.appendChild(docLink);\n",
              "        }\n",
              "      </script>\n",
              "    </div>\n",
              "  </div>\n",
              "  "
            ]
          },
          "metadata": {}
        }
      ]
    },
    {
      "cell_type": "markdown",
      "source": [
        "#Head Direction"
      ],
      "metadata": {
        "id": "-kBjX0QUL7xx"
      }
    },
    {
      "cell_type": "markdown",
      "source": [
        "Accessory Methods"
      ],
      "metadata": {
        "id": "7EzGMSY_pXoJ"
      }
    },
    {
      "cell_type": "code",
      "source": [
        "def calc_slope(X1, Y1, X2, Y2):\n",
        "#Returns the slope (s) and B in the equation y=sx+B\n",
        "#(X1, Y1) are a point pair, (X2, Y2) are a point pair\n",
        "  s = (Y1-Y2)/(X1-X2)\n",
        "  B = Y1-(s*X1)\n",
        "  return s, B\n",
        "\n",
        "def assessmentRight(Y_nose, Y_referenceL, Y_referenceR, X_nose, X_referenceL, X_referenceR):\n",
        "#Determines whether the head direction is facing towards target rat, signifying a potential for interaction\n",
        "#This is for videos that have been cropped so that only the right-side of the arena is visible. \n",
        "#Therefore, an interaction would be when the rat's head is in the direction of the left of the screen\n",
        "#True means a positive head direction (i.e. looking for an interaction)\n",
        "#False means a negative head direction (i.e. not looking for an interaction) \n",
        "  result = False\n",
        "  \n",
        "#Checks to see if rat is facing upwards in the videos\n",
        "#0 is on top right corner\n",
        "  #if y coordinate for the nose is higher on the screen than the y coordinate of the left reference body part\n",
        "  if Y_nose < Y_referenceL:\n",
        "    #if the x coordinate for the nose is more to the left than the x coordinate of the right reference body part \n",
        "    if X_nose > X_referenceL: \n",
        "      result = True\n",
        "    else: \n",
        "      result = False\n",
        "\n",
        "#Checks to see if rat is facing downwards in the videos\n",
        "#0 is on top right corner\n",
        "  #if y coordinate for the nose is lower on the screen than the y coordinate of the right reference body part\n",
        "  elif Y_nose > Y_referenceR: \n",
        "    #if the x coordinate for the nose is more to the left than the x coordinate of the right reference body part \n",
        "    if X_nose > X_referenceR: \n",
        "      result = True\n",
        "    else: \n",
        "      result = False\n",
        "\n",
        "#If its not facing upwards or downwards, they must be parallel (this would only happen if there was a mistake in the pose estimation)\n",
        "#0 is on top right corner\n",
        "  else:\n",
        "    #if the x coordinate for the nose is more to the left than the x coordinate of the right or left reference body part \n",
        "    if X_nose > X_referenceL or X_nose > X_referenceR:\n",
        "      result= True\n",
        "    else:\n",
        "      result = False\n",
        "\n",
        "  return result\n",
        "\n",
        "def assessmentLeft(Y_nose, Y_referenceL, Y_referenceR, X_nose, X_referenceL, X_referenceR):\n",
        "#Determines whether the head direction is facing towards target rat, signifying a potential for interaction\n",
        "#This is for videos that have been cropped so that only the left-side of the arena is visible. \n",
        "#Therefore, an interaction would be when the rat's head is in the direction of the right of the screen\n",
        "#True means a positive head direction (i.e. looking for an interaction)\n",
        "#False means a negative head direction (i.e. not looking for an interaction) \n",
        "  \n",
        "  result = False\n",
        "#Checks to see if rat is facing upwards in the videos\n",
        "#0 is on top right corner\n",
        "  #if y coordinate for the nose is higher on the screen than the y coordinate of the right reference body part\n",
        "  if Y_nose < Y_referenceR:\n",
        "    #if the x coordinate for the nose is more to the right than the x coordinate of the right reference body part \n",
        "    if X_nose < X_referenceR: \n",
        "      result = True\n",
        "    else: \n",
        "      result = False\n",
        "\n",
        "#Checks to see if rat is facing downwards in the videos\n",
        "#0 is on top right corner\n",
        "  #if y coordinate for the nose is lower on the screen than the y coordinate of the left reference body part\n",
        "  elif Y_nose > Y_referenceL:\n",
        "    #if the x coordinate for the nose is more to the left than the x coordinate of the left reference body part \n",
        "    if X_nose < X_referenceL: #0 is on right side\n",
        "      result = True\n",
        "    else: \n",
        "      result = False\n",
        "\n",
        "#If its not facing upwards or downwards, they must be parallel (this would only happen if there was a mistake in the pose estimation)\n",
        "#0 is on top right corner\n",
        "  else:\n",
        "    #if the x coordinate for the nose is more to the left than the x coordinate of the right or left reference body part \n",
        "    if X_nose < X_referenceL or X_nose < X_referenceR:\n",
        "      result= True\n",
        "    else:\n",
        "      result = False\n",
        "\n",
        "  return result\n",
        "\n",
        "def show_result(masterlist):\n",
        "#Converts the master list created by the run function to a plot\n",
        "  results =[]\n",
        "  \n",
        "  #Iterates through master list\n",
        "  for csv in masterlist: \n",
        "    #Determines total number of CSVs (note: minus two so that the headers are not included)\n",
        "    total = len(csv)-2\n",
        "    \n",
        "    #Determine number of frames with positive head direction \n",
        "    positive = sum(csv)\n",
        "\n",
        "    #Appends percentage to list\n",
        "    results.append(positive/total)\n",
        "\n",
        "  #Plots the percentages by the CSV number in the list \n",
        "  plt.plot(range(len(masterlist)), results)\n",
        "  plt.ylabel('Percent of Positive Head Direction')\n",
        "  plt.xlabel('CSV file')\n",
        "  plt.title('Potential Interactions Per CSV File')\n",
        "  plt.show()"
      ],
      "metadata": {
        "id": "WeicGYCHtqma"
      },
      "execution_count": null,
      "outputs": []
    },
    {
      "cell_type": "markdown",
      "source": [
        "Main Method"
      ],
      "metadata": {
        "id": "_5c5d6Qetw2d"
      }
    },
    {
      "cell_type": "code",
      "source": [
        "def run(csv_List,side_List):\n",
        "#This method iterates through the list of CSV files and returns a final list of \n",
        "#the frames with positive (True) head direction and negative (False) head direction. \n",
        "\n",
        "  #Variable so that accessing the respective values is more clear\n",
        "  nose = 0\n",
        "  Leye = 1\n",
        "  Reye = 2\n",
        "  Lear = 3\n",
        "  Rear = 4\n",
        "\n",
        "  #Threshold for liklihoods\n",
        "  threshold = .75\n",
        "\n",
        "  #This will be the final list for all the CSVs\n",
        "  master_direction=[]\n",
        "\n",
        "  #Iterates through each CSV files in the list of CSV files\n",
        "  for ind, csv in enumerate(csv_List):\n",
        "    #Creates separate lists for the likelihood, x-coordinates, and y-coordinates for each body part in the CSV file\n",
        "    #order: nose, L eye, R eye, L ear, R ear\n",
        "    likelihoods = csv[:, [3,6,9,12,15]]\n",
        "    Xcoords = csv[:,[1,4,7,10,13]]\n",
        "    Ycoords = csv[:,[2,4,8,11,14]]\n",
        "  \n",
        "    #Initializes the list for each CSV file\n",
        "    direction=[]\n",
        "    #Sets the first two instances to False, so that the index in the CSV will match up with the index in this list\n",
        "    direction.append(False)\n",
        "    direction.append(False)\n",
        "    \n",
        "    #Determines if the video is a right-sided video\n",
        "    if side_List[ind]=='R': #RIGHT    \n",
        "      \n",
        "      #Iterates through each frame of the CSV file (note: the first two rows in each file are headers)\n",
        "      for frame in range(2,len(csv)):\n",
        "        \n",
        "        #Determines if the likelihoods are high enough for the nose and eyes. \n",
        "        if float(likelihoods[frame][nose]) >threshold and float(likelihoods[frame][Leye])>threshold and float(likelihoods[frame][Reye])>threshold: \n",
        "          #Uses the nose and the eyes to determine positive or negative head direction\n",
        "          direction.append(assessmentRight(Ycoords[frame][nose],Ycoords[frame][Leye], Ycoords[frame][Reye], Xcoords[frame][nose],Xcoords[frame][Leye],Xcoords[frame][Reye]))\n",
        "\n",
        "        #If the likelihood of the eyes are not high enough, determines if the likelihoods are high enough for the nose and ears. \n",
        "        elif float(likelihoods[frame][nose]) >threshold and float(likelihoods[frame][Lear])>threshold and float(likelihoods[frame][Rear])>threshold: #Can use nose and eyes\n",
        "          #Uses the nose and ears to determine positive or negative head direction\n",
        "          direction.append(assessmentRight(Ycoords[frame][nose],Ycoords[frame][Lear], Ycoords[frame][Rear], Xcoords[frame][nose],Xcoords[frame][Lear],Xcoords[frame][Rear]))\n",
        "\n",
        "        #If the likelihoods of the nose is not high enough, determine if the likelihoods are high enough for the eyes and ears\n",
        "        elif float(likelihoods[frame][nose])<threshold and float(likelihoods[frame][Leye])>threshold and float(likelihoods[frame][Reye])>threshold and float(likelihoods[frame][Lear])>threshold and float(likelihoods[frame][Rear])>threshold: \n",
        "          #Calculate the slope for the lines that pass through the left ear and left eye\n",
        "          # 1-eyes, 2-ear\n",
        "          x1L= Xcoords[frame][Leye]\n",
        "          y1L= Ycoords[frame][Leye]\n",
        "          x2L= Xcoords[frame][Lear]\n",
        "          y2L= Ycoords[frame][Lear]\n",
        "          slopeL, bL = calc_slope(x1L,y1L,x2L,y2L)\n",
        "\n",
        "          #Calculate the slope for the lines that pass through the right ear and right eye\n",
        "          #1-eyes, 2-ears\n",
        "          x1R= Xcoords[frame][Reye]\n",
        "          y1R= Ycoords[frame][Reye]\n",
        "          x2R= Xcoords[frame][Rear]\n",
        "          y2R= Ycoords[frame][Rear]\n",
        "          slopeR, bR = calc_slope(x1R,y1R,x2R,y2R)\n",
        "\n",
        "          #Determines the nose to be at the intersection of the lines\n",
        "          predictedNose_x = (bR-bL)/(slopeL-slopeR)\n",
        "          predictedNose_y = slopeL*predictedNose_x+bL\n",
        "\n",
        "          #Uses the predicted nose and eyes to determine positive or negative head direction\n",
        "          direction.append(assessmentRight(predictedNose_y,Ycoords[frame][Leye], Ycoords[frame][Reye], predictedNose_x,Xcoords[frame][Leye],Xcoords[frame][Reye]))\n",
        "\n",
        "        #Determines if the ears are the only body part with high liklihood\n",
        "        elif float(likelihoods[frame][Lear])>threshold and float(likelihoods[frame][Rear])>threshold: \n",
        "          #Predicts direction of nose\n",
        "          #Determines highest likelihood of the nose within window, saves index\n",
        "          if frame+2<len(likelihoods)-1 and frame-2>4:\n",
        "            for frame_ind in range(frame-2,frame+2):\n",
        "              estimate = 0\n",
        "              save_ind = 0\n",
        "              if float(likelihoods[frame_ind][nose])> estimate:\n",
        "                estimate = likelihoods[frame_ind][nose]\n",
        "                save_ind = frame_ind\n",
        "          \n",
        "          #Case: frame is too close to the end to use full window\n",
        "          elif frame+2>len(likelihoods): \n",
        "            for frame_ind in range(frame-2, frame):\n",
        "              estimate = 0\n",
        "              save_ind = 0\n",
        "              if float(likelihoods[frame_ind][nose])> estimate:\n",
        "                estimate = likelihoods[frame_ind][nose]\n",
        "                save_ind = frame_ind\n",
        "          #Case: frame is too close to the beginning to use full window\n",
        "          elif frame-2<4:\n",
        "            for frame_ind in range(frame, frame+2):\n",
        "              estimate = 0\n",
        "              save_ind = 0\n",
        "              if float(likelihoods[frame_ind][nose])> estimate:\n",
        "                estimate = likelihoods[frame_ind][nose]\n",
        "                save_ind = frame_ind\n",
        "\n",
        "          #Uses the highest estimated nose position and ears to determine positive or negative head direction \n",
        "          direction.append(assessmentRight(Ycoords[save_ind][nose],Ycoords[frame][Lear], Ycoords[frame][Rear], Xcoords[save_ind][nose],Xcoords[frame][Lear],Xcoords[frame][Rear]))\n",
        "      \n",
        "      #Append list of positive or negative head directions for each CSV file to the master list\n",
        "      master_direction.append(direction)\n",
        "    \n",
        "    #Determines if the video is a right-sided video\n",
        "    elif right_left[ind]=='L': #LEFT\n",
        "      #Iterates through each frame of the CSV file (note: the first two rows in each file are headers)\n",
        "      for frame in range(2,len(csv)):\n",
        "        \n",
        "        #Determines if the likelihoods are high enough for the nose and eyes. \n",
        "        if float(likelihoods[frame][nose]) >threshold and float(likelihoods[frame][Leye])>threshold and float(likelihoods[frame][Reye])>threshold: \n",
        "          #Uses the nose and the eyes to determine positive or negative head direction\n",
        "          direction.append(assessmentLeft(Ycoords[frame][nose],Ycoords[frame][Leye], Ycoords[frame][Reye], Xcoords[frame][nose],Xcoords[frame][Leye],Xcoords[frame][Reye]))\n",
        "\n",
        "        #If the likelihood of the eyes are not high enough, determines if the likelihoods are high enough for the nose and ears. \n",
        "        elif float(likelihoods[frame][nose]) >threshold and float(likelihoods[frame][Lear])>threshold and float(likelihoods[frame][Rear])>threshold: #Can use nose and eyes\n",
        "          #Uses the nose and the ears to determine positive or negative head direction\n",
        "          direction.append(assessmentLeft(Ycoords[frame][nose],Ycoords[frame][Lear], Ycoords[frame][Rear], Xcoords[frame][nose],Xcoords[frame][Lear],Xcoords[frame][Rear]))\n",
        "\n",
        "        #If the likelihoods of the nose is not high enough, determine if the likelihoods are high enough for the eyes and ears\n",
        "        elif float(likelihoods[frame][nose]) <threshold and float(likelihoods[frame][Leye])>threshold and float(likelihoods[frame][Reye])>threshold and float(likelihoods[frame][Lear])>threshold and float(likelihoods[frame][Rear])>threshold: \n",
        "          #Calculate the slope for the lines that pass through the left ear and left eye\n",
        "          # 1-eyes, 2-ear\n",
        "          x1L= Xcoords[frame][Leye]\n",
        "          y1L= Ycoords[frame][Leye]\n",
        "          x2L= Xcoords[frame][Lear]\n",
        "          y2L= Ycoords[frame][Lear]\n",
        "          slopeL, bL = calc_slope(x1L,y1L,x2L,y2L)\n",
        "\n",
        "          #Calculate the slope for the lines that pass through the right ear and right eye\n",
        "          #1-eyes, 2-ears\n",
        "          x1R= Xcoords[frame][Reye]\n",
        "          y1R= Ycoords[frame][Reye]\n",
        "          x2R= Xcoords[frame][Rear]\n",
        "          y2R= Ycoords[frame][Rear]\n",
        "          slopeR, bR = calc_slope(x1R,y1R,x2R,y2R)\n",
        "\n",
        "          #Determines the nose to be at the intersection of the lines\n",
        "          predictedNose_x = (bR-bL)/(slopeL-slopeR)\n",
        "          predictedNose_y = slopeL*predictedNose_x+bL\n",
        "          \n",
        "          #Uses the predicted nose and eyes to determine positive or negative head direction\n",
        "          direction.append(assessmentLeft(predictedNose_y,Ycoords[frame][Leye], Ycoords[frame][Reye], predictedNose_x,Xcoords[frame][Leye],Xcoords[frame][Reye]))\n",
        "\n",
        "        #Determines if the ears are the only body part with high liklihood\n",
        "        elif float(likelihoods[frame][Lear])>threshold and float(likelihoods[frame][Rear])>threshold: \n",
        "          #Predicts direction of nose\n",
        "          #Determines highest likelihood of the nose within window, saves index\n",
        "          if frame+2<len(likelihoods)-1 and frame-2>4:\n",
        "            for frame_ind in range(frame-2,frame+2):\n",
        "              estimate = 0\n",
        "              save_ind = 0\n",
        "              if float(likelihoods[frame_ind][nose])> estimate:\n",
        "                estimate = likelihoods[frame_ind][nose]\n",
        "                save_ind = frame_ind\n",
        "            #Uses the highest estimated nose position and ears to determine positive or negative head direction \n",
        "            direction.append(assessmentLeft(Ycoords[save_ind][nose],Ycoords[frame][Lear], Ycoords[frame][Rear], Xcoords[save_ind][nose],Xcoords[frame][Lear],Xcoords[frame][Rear]))\n",
        "\n",
        "          #Case: frame is too close to the end to use full window\n",
        "          elif frame+2>len(likelihoods): \n",
        "            for frame_ind in range(frame-2, frame):\n",
        "              estimate = 0\n",
        "              save_ind = 0\n",
        "              if float(likelihoods[frame_ind][nose])> estimate:\n",
        "                estimate = likelihoods[frame_ind][nose]\n",
        "                save_ind = frame_ind\n",
        "            #Uses the highest estimated nose position and ears to determine positive or negative head direction \n",
        "            direction.append(assessmentLeft(Ycoords[save_ind][nose],Ycoords[frame][Lear], Ycoords[frame][Rear], Xcoords[save_ind][nose],Xcoords[frame][Lear],Xcoords[frame][Rear]))\n",
        "\n",
        "          #Case: frame is too close to the beginning to use full window\n",
        "          elif frame-2<4:\n",
        "            for frame_ind in range(frame, frame+2):\n",
        "              estimate = 0\n",
        "              save_ind = 0\n",
        "              if float(likelihoods[frame_ind][nose])> estimate:\n",
        "                estimate = likelihoods[frame_ind][nose]\n",
        "                save_ind = frame_ind\n",
        "            #Uses the highest estimated nose position and ears to determine positive or negative head direction \n",
        "            direction.append(assessmentLeft(Ycoords[save_ind][nose],Ycoords[frame][Lear], Ycoords[frame][Rear], Xcoords[save_ind][nose],Xcoords[frame][Lear],Xcoords[frame][Rear]))\n",
        "     \n",
        "      #Append list of positive or negative head directions for each CSV file to the master list\n",
        "      master_direction.append(direction)\n",
        "\n",
        "  return master_direction"
      ],
      "metadata": {
        "id": "636P8y2iL9fz"
      },
      "execution_count": null,
      "outputs": []
    },
    {
      "cell_type": "code",
      "source": [
        "show_result(run(csv_list, right_left))"
      ],
      "metadata": {
        "colab": {
          "base_uri": "https://localhost:8080/",
          "height": 295
        },
        "id": "Bs86TcH6sAN_",
        "outputId": "87d0784f-831a-42d7-fd80-281bb92d8447"
      },
      "execution_count": null,
      "outputs": [
        {
          "output_type": "display_data",
          "data": {
            "text/plain": [
              "<Figure size 432x288 with 1 Axes>"
            ],
            "image/png": "[encoded data removed]"
          },
          "metadata": {
            "needs_background": "light"
          }
        }
      ]
    }
  ]
}